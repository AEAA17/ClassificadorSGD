{
 "cells": [
  {
   "cell_type": "markdown",
   "id": "83c2d267-c57f-4074-9aed-7a7c50d1e6bd",
   "metadata": {
    "jp-MarkdownHeadingCollapsed": true
   },
   "source": [
    "# Objetivo\n",
    "\n",
    "## Criar um modelo de classificação binária que detecte se uma imagem do conjunto de dados MNIST contém o número \"5\" ou não, esse projeto foi feito com base no livro Mãos À Obra: Aprendizado de Máquina com Scikit-Learn, Keras E TensorFlow."
   ]
  },
  {
   "cell_type": "markdown",
   "id": "3db018a6-9a85-4a80-9302-ef8d6214d959",
   "metadata": {},
   "source": [
    "# 1. Configurações basicas"
   ]
  },
  {
   "cell_type": "markdown",
   "id": "111741e6-149b-4f7a-a994-c64e856c5e90",
   "metadata": {},
   "source": [
    "## Bibliotecas utilizadas"
   ]
  },
  {
   "cell_type": "code",
   "execution_count": 1,
   "id": "b7ea0c45-be47-45a8-8e5d-f671b2a57649",
   "metadata": {},
   "outputs": [],
   "source": [
    "import sklearn\n",
    "import numpy as np\n",
    "import os\n",
    "import matplotlib as mpl\n",
    "import matplotlib.pyplot as plt"
   ]
  },
  {
   "cell_type": "markdown",
   "id": "43731db5-e1f1-44d7-8ba5-fe43be9539c6",
   "metadata": {},
   "source": [
    "## Configuração das figuras"
   ]
  },
  {
   "cell_type": "code",
   "execution_count": 2,
   "id": "7dc1e9db-e1d7-4dea-8c29-c92a230a490d",
   "metadata": {},
   "outputs": [],
   "source": [
    "%matplotlib inline\n",
    "mpl.rc('axes', labelsize=14)\n",
    "mpl.rc('xtick', labelsize=12)\n",
    "mpl.rc('ytick', labelsize=12)"
   ]
  },
  {
   "cell_type": "markdown",
   "id": "d58e9c5c-f513-48ee-99d1-fbe296ae6e95",
   "metadata": {},
   "source": [
    "## Função para salvar figuras"
   ]
  },
  {
   "cell_type": "code",
   "execution_count": 3,
   "id": "afc2baac-818e-43cf-a42c-c50197cb9368",
   "metadata": {},
   "outputs": [],
   "source": [
    "PROJECT_ROOT_DIR = r\"C:\\Users\\euric\\Desktop\\lml\"\n",
    "CHAPTER_ID = \"classification\"\n",
    "IMAGES_PATH = os.path.join(PROJECT_ROOT_DIR, \"images\", CHAPTER_ID)\n",
    "os.makedirs(IMAGES_PATH, exist_ok=True)\n",
    "\n",
    "def save_fig(fig_id, tight_layout=True, fig_extension=\"png\", resolution=300):\n",
    "    path = os.path.join(IMAGES_PATH, fig_id + \".\" + fig_extension)\n",
    "    print(\"Saving figure\", fig_id)\n",
    "    if tight_layout:\n",
    "        plt.tight_layout()\n",
    "    plt.savefig(path, format=fig_extension, dpi=resolution)\n"
   ]
  },
  {
   "cell_type": "markdown",
   "id": "89abb18f-e379-427b-95dd-29b28453571c",
   "metadata": {},
   "source": [
    "## Semente para garantir os mesmos resultados"
   ]
  },
  {
   "cell_type": "code",
   "execution_count": 4,
   "id": "d7e550b2-8b7c-457d-a38f-f5b187f203b7",
   "metadata": {},
   "outputs": [],
   "source": [
    "np.random.seed(42)"
   ]
  },
  {
   "cell_type": "markdown",
   "id": "3f035c2e-7bf6-4851-b97c-a6483482245a",
   "metadata": {},
   "source": [
    "# 2. Obtendo o dataset MNIST\n",
    "\n",
    "### O dataset MNIST contém imagens de dígitos escritos à mão (0–9). Cada imagem tem 28x28 pixels (784 características)."
   ]
  },
  {
   "cell_type": "code",
   "execution_count": 5,
   "id": "12aad03f-88c6-4606-8a03-c935b438430e",
   "metadata": {
    "scrolled": true
   },
   "outputs": [
    {
     "data": {
      "text/plain": [
       "dict_keys(['data', 'target', 'frame', 'categories', 'feature_names', 'target_names', 'DESCR', 'details', 'url'])"
      ]
     },
     "execution_count": 5,
     "metadata": {},
     "output_type": "execute_result"
    }
   ],
   "source": [
    "from sklearn.datasets import fetch_openml\n",
    "mnist = fetch_openml('mnist_784', version=1, as_frame=False)\n",
    "mnist.keys()"
   ]
  },
  {
   "cell_type": "markdown",
   "id": "214d38c0-dece-46b6-a436-e65a308d1ce4",
   "metadata": {},
   "source": [
    "## Formato do dataset:"
   ]
  },
  {
   "cell_type": "code",
   "execution_count": 6,
   "id": "02abbd42-366e-4ec3-993c-b64e58c27786",
   "metadata": {},
   "outputs": [
    {
     "data": {
      "text/plain": [
       "(70000, 784)"
      ]
     },
     "execution_count": 6,
     "metadata": {},
     "output_type": "execute_result"
    }
   ],
   "source": [
    "X, y = mnist[\"data\"], mnist[\"target\"]\n",
    "X.shape\n"
   ]
  },
  {
   "cell_type": "code",
   "execution_count": 7,
   "id": "a39b99b1-b1d1-4ce3-a35b-7584e1624a11",
   "metadata": {
    "scrolled": true
   },
   "outputs": [
    {
     "data": {
      "text/plain": [
       "(70000,)"
      ]
     },
     "execution_count": 7,
     "metadata": {},
     "output_type": "execute_result"
    }
   ],
   "source": [
    "y.shape"
   ]
  },
  {
   "cell_type": "markdown",
   "id": "9bf76db4-a02d-48e7-94a0-1bd79c0a187e",
   "metadata": {},
   "source": [
    "### Temos 70.000 imagens (linhas) e 784 pixels por imagem (colunas)"
   ]
  },
  {
   "cell_type": "markdown",
   "id": "9fdd3024-747b-401b-9b17-55da411203db",
   "metadata": {},
   "source": [
    "# 3. Transformação dos Dados\n",
    "\n",
    "### Os dados foram divididos em 60.000 imagens para treino, 10.000 para teste e o rótulo y foi convertido para tipo inteiro"
   ]
  },
  {
   "cell_type": "code",
   "execution_count": 8,
   "id": "e2e02320-b324-4b2a-b55d-23bfa18969a7",
   "metadata": {},
   "outputs": [],
   "source": [
    "y = y.astype(np.uint8)\n",
    "X_train, X_test, y_train, y_test = X[:60000], X[60000:], y[:60000], y[60000:]"
   ]
  },
  {
   "cell_type": "markdown",
   "id": "03e2ada7-932c-4b37-8309-5c1c81b2818a",
   "metadata": {},
   "source": [
    "## Criação dos rótulos:\n",
    "\n",
    "### y_train_5 e y_test_5 são True para imagens do dígito 5 e False para outros números."
   ]
  },
  {
   "cell_type": "code",
   "execution_count": 9,
   "id": "664c5a4c-1bb5-4388-97cb-b09d9bac8eeb",
   "metadata": {},
   "outputs": [],
   "source": [
    "y_train_5 = (y_train == 5)\n",
    "y_test_5 = (y_test == 5)"
   ]
  },
  {
   "cell_type": "markdown",
   "id": "31762d53-2581-4f96-8b06-c7f080fe3817",
   "metadata": {
    "scrolled": true
   },
   "source": [
    "# 4. Treinando o Classificador SGD\n"
   ]
  },
  {
   "cell_type": "code",
   "execution_count": 10,
   "id": "cf0b7dc3-68fe-4468-9fe3-8fcf6bf58d40",
   "metadata": {},
   "outputs": [
    {
     "data": {
      "text/html": [
       "<style>#sk-container-id-1 {\n",
       "  /* Definition of color scheme common for light and dark mode */\n",
       "  --sklearn-color-text: black;\n",
       "  --sklearn-color-line: gray;\n",
       "  /* Definition of color scheme for unfitted estimators */\n",
       "  --sklearn-color-unfitted-level-0: #fff5e6;\n",
       "  --sklearn-color-unfitted-level-1: #f6e4d2;\n",
       "  --sklearn-color-unfitted-level-2: #ffe0b3;\n",
       "  --sklearn-color-unfitted-level-3: chocolate;\n",
       "  /* Definition of color scheme for fitted estimators */\n",
       "  --sklearn-color-fitted-level-0: #f0f8ff;\n",
       "  --sklearn-color-fitted-level-1: #d4ebff;\n",
       "  --sklearn-color-fitted-level-2: #b3dbfd;\n",
       "  --sklearn-color-fitted-level-3: cornflowerblue;\n",
       "\n",
       "  /* Specific color for light theme */\n",
       "  --sklearn-color-text-on-default-background: var(--sg-text-color, var(--theme-code-foreground, var(--jp-content-font-color1, black)));\n",
       "  --sklearn-color-background: var(--sg-background-color, var(--theme-background, var(--jp-layout-color0, white)));\n",
       "  --sklearn-color-border-box: var(--sg-text-color, var(--theme-code-foreground, var(--jp-content-font-color1, black)));\n",
       "  --sklearn-color-icon: #696969;\n",
       "\n",
       "  @media (prefers-color-scheme: dark) {\n",
       "    /* Redefinition of color scheme for dark theme */\n",
       "    --sklearn-color-text-on-default-background: var(--sg-text-color, var(--theme-code-foreground, var(--jp-content-font-color1, white)));\n",
       "    --sklearn-color-background: var(--sg-background-color, var(--theme-background, var(--jp-layout-color0, #111)));\n",
       "    --sklearn-color-border-box: var(--sg-text-color, var(--theme-code-foreground, var(--jp-content-font-color1, white)));\n",
       "    --sklearn-color-icon: #878787;\n",
       "  }\n",
       "}\n",
       "\n",
       "#sk-container-id-1 {\n",
       "  color: var(--sklearn-color-text);\n",
       "}\n",
       "\n",
       "#sk-container-id-1 pre {\n",
       "  padding: 0;\n",
       "}\n",
       "\n",
       "#sk-container-id-1 input.sk-hidden--visually {\n",
       "  border: 0;\n",
       "  clip: rect(1px 1px 1px 1px);\n",
       "  clip: rect(1px, 1px, 1px, 1px);\n",
       "  height: 1px;\n",
       "  margin: -1px;\n",
       "  overflow: hidden;\n",
       "  padding: 0;\n",
       "  position: absolute;\n",
       "  width: 1px;\n",
       "}\n",
       "\n",
       "#sk-container-id-1 div.sk-dashed-wrapped {\n",
       "  border: 1px dashed var(--sklearn-color-line);\n",
       "  margin: 0 0.4em 0.5em 0.4em;\n",
       "  box-sizing: border-box;\n",
       "  padding-bottom: 0.4em;\n",
       "  background-color: var(--sklearn-color-background);\n",
       "}\n",
       "\n",
       "#sk-container-id-1 div.sk-container {\n",
       "  /* jupyter's `normalize.less` sets `[hidden] { display: none; }`\n",
       "     but bootstrap.min.css set `[hidden] { display: none !important; }`\n",
       "     so we also need the `!important` here to be able to override the\n",
       "     default hidden behavior on the sphinx rendered scikit-learn.org.\n",
       "     See: https://github.com/scikit-learn/scikit-learn/issues/21755 */\n",
       "  display: inline-block !important;\n",
       "  position: relative;\n",
       "}\n",
       "\n",
       "#sk-container-id-1 div.sk-text-repr-fallback {\n",
       "  display: none;\n",
       "}\n",
       "\n",
       "div.sk-parallel-item,\n",
       "div.sk-serial,\n",
       "div.sk-item {\n",
       "  /* draw centered vertical line to link estimators */\n",
       "  background-image: linear-gradient(var(--sklearn-color-text-on-default-background), var(--sklearn-color-text-on-default-background));\n",
       "  background-size: 2px 100%;\n",
       "  background-repeat: no-repeat;\n",
       "  background-position: center center;\n",
       "}\n",
       "\n",
       "/* Parallel-specific style estimator block */\n",
       "\n",
       "#sk-container-id-1 div.sk-parallel-item::after {\n",
       "  content: \"\";\n",
       "  width: 100%;\n",
       "  border-bottom: 2px solid var(--sklearn-color-text-on-default-background);\n",
       "  flex-grow: 1;\n",
       "}\n",
       "\n",
       "#sk-container-id-1 div.sk-parallel {\n",
       "  display: flex;\n",
       "  align-items: stretch;\n",
       "  justify-content: center;\n",
       "  background-color: var(--sklearn-color-background);\n",
       "  position: relative;\n",
       "}\n",
       "\n",
       "#sk-container-id-1 div.sk-parallel-item {\n",
       "  display: flex;\n",
       "  flex-direction: column;\n",
       "}\n",
       "\n",
       "#sk-container-id-1 div.sk-parallel-item:first-child::after {\n",
       "  align-self: flex-end;\n",
       "  width: 50%;\n",
       "}\n",
       "\n",
       "#sk-container-id-1 div.sk-parallel-item:last-child::after {\n",
       "  align-self: flex-start;\n",
       "  width: 50%;\n",
       "}\n",
       "\n",
       "#sk-container-id-1 div.sk-parallel-item:only-child::after {\n",
       "  width: 0;\n",
       "}\n",
       "\n",
       "/* Serial-specific style estimator block */\n",
       "\n",
       "#sk-container-id-1 div.sk-serial {\n",
       "  display: flex;\n",
       "  flex-direction: column;\n",
       "  align-items: center;\n",
       "  background-color: var(--sklearn-color-background);\n",
       "  padding-right: 1em;\n",
       "  padding-left: 1em;\n",
       "}\n",
       "\n",
       "\n",
       "/* Toggleable style: style used for estimator/Pipeline/ColumnTransformer box that is\n",
       "clickable and can be expanded/collapsed.\n",
       "- Pipeline and ColumnTransformer use this feature and define the default style\n",
       "- Estimators will overwrite some part of the style using the `sk-estimator` class\n",
       "*/\n",
       "\n",
       "/* Pipeline and ColumnTransformer style (default) */\n",
       "\n",
       "#sk-container-id-1 div.sk-toggleable {\n",
       "  /* Default theme specific background. It is overwritten whether we have a\n",
       "  specific estimator or a Pipeline/ColumnTransformer */\n",
       "  background-color: var(--sklearn-color-background);\n",
       "}\n",
       "\n",
       "/* Toggleable label */\n",
       "#sk-container-id-1 label.sk-toggleable__label {\n",
       "  cursor: pointer;\n",
       "  display: block;\n",
       "  width: 100%;\n",
       "  margin-bottom: 0;\n",
       "  padding: 0.5em;\n",
       "  box-sizing: border-box;\n",
       "  text-align: center;\n",
       "}\n",
       "\n",
       "#sk-container-id-1 label.sk-toggleable__label-arrow:before {\n",
       "  /* Arrow on the left of the label */\n",
       "  content: \"▸\";\n",
       "  float: left;\n",
       "  margin-right: 0.25em;\n",
       "  color: var(--sklearn-color-icon);\n",
       "}\n",
       "\n",
       "#sk-container-id-1 label.sk-toggleable__label-arrow:hover:before {\n",
       "  color: var(--sklearn-color-text);\n",
       "}\n",
       "\n",
       "/* Toggleable content - dropdown */\n",
       "\n",
       "#sk-container-id-1 div.sk-toggleable__content {\n",
       "  max-height: 0;\n",
       "  max-width: 0;\n",
       "  overflow: hidden;\n",
       "  text-align: left;\n",
       "  /* unfitted */\n",
       "  background-color: var(--sklearn-color-unfitted-level-0);\n",
       "}\n",
       "\n",
       "#sk-container-id-1 div.sk-toggleable__content.fitted {\n",
       "  /* fitted */\n",
       "  background-color: var(--sklearn-color-fitted-level-0);\n",
       "}\n",
       "\n",
       "#sk-container-id-1 div.sk-toggleable__content pre {\n",
       "  margin: 0.2em;\n",
       "  border-radius: 0.25em;\n",
       "  color: var(--sklearn-color-text);\n",
       "  /* unfitted */\n",
       "  background-color: var(--sklearn-color-unfitted-level-0);\n",
       "}\n",
       "\n",
       "#sk-container-id-1 div.sk-toggleable__content.fitted pre {\n",
       "  /* unfitted */\n",
       "  background-color: var(--sklearn-color-fitted-level-0);\n",
       "}\n",
       "\n",
       "#sk-container-id-1 input.sk-toggleable__control:checked~div.sk-toggleable__content {\n",
       "  /* Expand drop-down */\n",
       "  max-height: 200px;\n",
       "  max-width: 100%;\n",
       "  overflow: auto;\n",
       "}\n",
       "\n",
       "#sk-container-id-1 input.sk-toggleable__control:checked~label.sk-toggleable__label-arrow:before {\n",
       "  content: \"▾\";\n",
       "}\n",
       "\n",
       "/* Pipeline/ColumnTransformer-specific style */\n",
       "\n",
       "#sk-container-id-1 div.sk-label input.sk-toggleable__control:checked~label.sk-toggleable__label {\n",
       "  color: var(--sklearn-color-text);\n",
       "  background-color: var(--sklearn-color-unfitted-level-2);\n",
       "}\n",
       "\n",
       "#sk-container-id-1 div.sk-label.fitted input.sk-toggleable__control:checked~label.sk-toggleable__label {\n",
       "  background-color: var(--sklearn-color-fitted-level-2);\n",
       "}\n",
       "\n",
       "/* Estimator-specific style */\n",
       "\n",
       "/* Colorize estimator box */\n",
       "#sk-container-id-1 div.sk-estimator input.sk-toggleable__control:checked~label.sk-toggleable__label {\n",
       "  /* unfitted */\n",
       "  background-color: var(--sklearn-color-unfitted-level-2);\n",
       "}\n",
       "\n",
       "#sk-container-id-1 div.sk-estimator.fitted input.sk-toggleable__control:checked~label.sk-toggleable__label {\n",
       "  /* fitted */\n",
       "  background-color: var(--sklearn-color-fitted-level-2);\n",
       "}\n",
       "\n",
       "#sk-container-id-1 div.sk-label label.sk-toggleable__label,\n",
       "#sk-container-id-1 div.sk-label label {\n",
       "  /* The background is the default theme color */\n",
       "  color: var(--sklearn-color-text-on-default-background);\n",
       "}\n",
       "\n",
       "/* On hover, darken the color of the background */\n",
       "#sk-container-id-1 div.sk-label:hover label.sk-toggleable__label {\n",
       "  color: var(--sklearn-color-text);\n",
       "  background-color: var(--sklearn-color-unfitted-level-2);\n",
       "}\n",
       "\n",
       "/* Label box, darken color on hover, fitted */\n",
       "#sk-container-id-1 div.sk-label.fitted:hover label.sk-toggleable__label.fitted {\n",
       "  color: var(--sklearn-color-text);\n",
       "  background-color: var(--sklearn-color-fitted-level-2);\n",
       "}\n",
       "\n",
       "/* Estimator label */\n",
       "\n",
       "#sk-container-id-1 div.sk-label label {\n",
       "  font-family: monospace;\n",
       "  font-weight: bold;\n",
       "  display: inline-block;\n",
       "  line-height: 1.2em;\n",
       "}\n",
       "\n",
       "#sk-container-id-1 div.sk-label-container {\n",
       "  text-align: center;\n",
       "}\n",
       "\n",
       "/* Estimator-specific */\n",
       "#sk-container-id-1 div.sk-estimator {\n",
       "  font-family: monospace;\n",
       "  border: 1px dotted var(--sklearn-color-border-box);\n",
       "  border-radius: 0.25em;\n",
       "  box-sizing: border-box;\n",
       "  margin-bottom: 0.5em;\n",
       "  /* unfitted */\n",
       "  background-color: var(--sklearn-color-unfitted-level-0);\n",
       "}\n",
       "\n",
       "#sk-container-id-1 div.sk-estimator.fitted {\n",
       "  /* fitted */\n",
       "  background-color: var(--sklearn-color-fitted-level-0);\n",
       "}\n",
       "\n",
       "/* on hover */\n",
       "#sk-container-id-1 div.sk-estimator:hover {\n",
       "  /* unfitted */\n",
       "  background-color: var(--sklearn-color-unfitted-level-2);\n",
       "}\n",
       "\n",
       "#sk-container-id-1 div.sk-estimator.fitted:hover {\n",
       "  /* fitted */\n",
       "  background-color: var(--sklearn-color-fitted-level-2);\n",
       "}\n",
       "\n",
       "/* Specification for estimator info (e.g. \"i\" and \"?\") */\n",
       "\n",
       "/* Common style for \"i\" and \"?\" */\n",
       "\n",
       ".sk-estimator-doc-link,\n",
       "a:link.sk-estimator-doc-link,\n",
       "a:visited.sk-estimator-doc-link {\n",
       "  float: right;\n",
       "  font-size: smaller;\n",
       "  line-height: 1em;\n",
       "  font-family: monospace;\n",
       "  background-color: var(--sklearn-color-background);\n",
       "  border-radius: 1em;\n",
       "  height: 1em;\n",
       "  width: 1em;\n",
       "  text-decoration: none !important;\n",
       "  margin-left: 1ex;\n",
       "  /* unfitted */\n",
       "  border: var(--sklearn-color-unfitted-level-1) 1pt solid;\n",
       "  color: var(--sklearn-color-unfitted-level-1);\n",
       "}\n",
       "\n",
       ".sk-estimator-doc-link.fitted,\n",
       "a:link.sk-estimator-doc-link.fitted,\n",
       "a:visited.sk-estimator-doc-link.fitted {\n",
       "  /* fitted */\n",
       "  border: var(--sklearn-color-fitted-level-1) 1pt solid;\n",
       "  color: var(--sklearn-color-fitted-level-1);\n",
       "}\n",
       "\n",
       "/* On hover */\n",
       "div.sk-estimator:hover .sk-estimator-doc-link:hover,\n",
       ".sk-estimator-doc-link:hover,\n",
       "div.sk-label-container:hover .sk-estimator-doc-link:hover,\n",
       ".sk-estimator-doc-link:hover {\n",
       "  /* unfitted */\n",
       "  background-color: var(--sklearn-color-unfitted-level-3);\n",
       "  color: var(--sklearn-color-background);\n",
       "  text-decoration: none;\n",
       "}\n",
       "\n",
       "div.sk-estimator.fitted:hover .sk-estimator-doc-link.fitted:hover,\n",
       ".sk-estimator-doc-link.fitted:hover,\n",
       "div.sk-label-container:hover .sk-estimator-doc-link.fitted:hover,\n",
       ".sk-estimator-doc-link.fitted:hover {\n",
       "  /* fitted */\n",
       "  background-color: var(--sklearn-color-fitted-level-3);\n",
       "  color: var(--sklearn-color-background);\n",
       "  text-decoration: none;\n",
       "}\n",
       "\n",
       "/* Span, style for the box shown on hovering the info icon */\n",
       ".sk-estimator-doc-link span {\n",
       "  display: none;\n",
       "  z-index: 9999;\n",
       "  position: relative;\n",
       "  font-weight: normal;\n",
       "  right: .2ex;\n",
       "  padding: .5ex;\n",
       "  margin: .5ex;\n",
       "  width: min-content;\n",
       "  min-width: 20ex;\n",
       "  max-width: 50ex;\n",
       "  color: var(--sklearn-color-text);\n",
       "  box-shadow: 2pt 2pt 4pt #999;\n",
       "  /* unfitted */\n",
       "  background: var(--sklearn-color-unfitted-level-0);\n",
       "  border: .5pt solid var(--sklearn-color-unfitted-level-3);\n",
       "}\n",
       "\n",
       ".sk-estimator-doc-link.fitted span {\n",
       "  /* fitted */\n",
       "  background: var(--sklearn-color-fitted-level-0);\n",
       "  border: var(--sklearn-color-fitted-level-3);\n",
       "}\n",
       "\n",
       ".sk-estimator-doc-link:hover span {\n",
       "  display: block;\n",
       "}\n",
       "\n",
       "/* \"?\"-specific style due to the `<a>` HTML tag */\n",
       "\n",
       "#sk-container-id-1 a.estimator_doc_link {\n",
       "  float: right;\n",
       "  font-size: 1rem;\n",
       "  line-height: 1em;\n",
       "  font-family: monospace;\n",
       "  background-color: var(--sklearn-color-background);\n",
       "  border-radius: 1rem;\n",
       "  height: 1rem;\n",
       "  width: 1rem;\n",
       "  text-decoration: none;\n",
       "  /* unfitted */\n",
       "  color: var(--sklearn-color-unfitted-level-1);\n",
       "  border: var(--sklearn-color-unfitted-level-1) 1pt solid;\n",
       "}\n",
       "\n",
       "#sk-container-id-1 a.estimator_doc_link.fitted {\n",
       "  /* fitted */\n",
       "  border: var(--sklearn-color-fitted-level-1) 1pt solid;\n",
       "  color: var(--sklearn-color-fitted-level-1);\n",
       "}\n",
       "\n",
       "/* On hover */\n",
       "#sk-container-id-1 a.estimator_doc_link:hover {\n",
       "  /* unfitted */\n",
       "  background-color: var(--sklearn-color-unfitted-level-3);\n",
       "  color: var(--sklearn-color-background);\n",
       "  text-decoration: none;\n",
       "}\n",
       "\n",
       "#sk-container-id-1 a.estimator_doc_link.fitted:hover {\n",
       "  /* fitted */\n",
       "  background-color: var(--sklearn-color-fitted-level-3);\n",
       "}\n",
       "</style><div id=\"sk-container-id-1\" class=\"sk-top-container\"><div class=\"sk-text-repr-fallback\"><pre>SGDClassifier(random_state=42)</pre><b>In a Jupyter environment, please rerun this cell to show the HTML representation or trust the notebook. <br />On GitHub, the HTML representation is unable to render, please try loading this page with nbviewer.org.</b></div><div class=\"sk-container\" hidden><div class=\"sk-item\"><div class=\"sk-estimator fitted sk-toggleable\"><input class=\"sk-toggleable__control sk-hidden--visually\" id=\"sk-estimator-id-1\" type=\"checkbox\" checked><label for=\"sk-estimator-id-1\" class=\"sk-toggleable__label fitted sk-toggleable__label-arrow fitted\">&nbsp;&nbsp;SGDClassifier<a class=\"sk-estimator-doc-link fitted\" rel=\"noreferrer\" target=\"_blank\" href=\"https://scikit-learn.org/1.5/modules/generated/sklearn.linear_model.SGDClassifier.html\">?<span>Documentation for SGDClassifier</span></a><span class=\"sk-estimator-doc-link fitted\">i<span>Fitted</span></span></label><div class=\"sk-toggleable__content fitted\"><pre>SGDClassifier(random_state=42)</pre></div> </div></div></div></div>"
      ],
      "text/plain": [
       "SGDClassifier(random_state=42)"
      ]
     },
     "execution_count": 10,
     "metadata": {},
     "output_type": "execute_result"
    }
   ],
   "source": [
    "from sklearn.linear_model import SGDClassifier\n",
    "sgd_clf = SGDClassifier(max_iter=1000, tol=1e-3, random_state=42)\n",
    "sgd_clf.fit(X_train, y_train_5)"
   ]
  },
  {
   "cell_type": "markdown",
   "id": "ee0c209c-80a0-483e-83a3-1e22e2133f65",
   "metadata": {},
   "source": [
    "## Predição com uma imagem:"
   ]
  },
  {
   "cell_type": "code",
   "execution_count": 11,
   "id": "e85fc45b-8437-4b4f-98ed-36b7e1f8a426",
   "metadata": {
    "scrolled": true
   },
   "outputs": [
    {
     "data": {
      "text/plain": [
       "array([ True])"
      ]
     },
     "execution_count": 11,
     "metadata": {},
     "output_type": "execute_result"
    }
   ],
   "source": [
    "some_digit = X[0]\n",
    "sgd_clf.predict([some_digit])"
   ]
  },
  {
   "cell_type": "markdown",
   "id": "40955dc9-1a09-4cbd-a736-b08e1f40e477",
   "metadata": {},
   "source": [
    "### o modelo previu que some_digit é o número 5"
   ]
  },
  {
   "attachments": {},
   "cell_type": "markdown",
   "id": "40c6ff8e-8269-447e-a9cc-d22c3c924902",
   "metadata": {},
   "source": [
    "# 5. Avaliando o modelo:\n",
    "\n",
    "## Validação Cruzada:\n",
    "## Na validação cruzada, os dados de treino são divididos em partes (chamadas de folds) de forma estratificada, garantindo que cada fold mantenha a proporção de exemplos positivos (número 5) e negativos (não 5). O processo é realizado em três etapas:\n",
    "\n",
    "## 1. O classificador é clonado e retreinado com os dados de cada combinação de folds de treino.\n",
    "## 2. O modelo treinado é avaliado no fold restante (dados de validação).\n",
    "## 3. Esse processo se repete para garantir que cada fold seja usado como conjunto de validação exatamente uma vez.\n",
    "\n",
    "## Foi utilizada uma validação cruzada com 3 folds:"
   ]
  },
  {
   "cell_type": "code",
   "execution_count": 12,
   "id": "0f26cb67-588c-4ec2-9964-dd316dc04655",
   "metadata": {
    "scrolled": true
   },
   "outputs": [
    {
     "name": "stdout",
     "output_type": "stream",
     "text": [
      "0.9669\n",
      "0.91625\n",
      "0.96785\n"
     ]
    }
   ],
   "source": [
    "from sklearn.model_selection import StratifiedKFold\n",
    "from sklearn.base import clone\n",
    "\n",
    "skfolds = StratifiedKFold(n_splits=3, shuffle=True, random_state=42)\n",
    "\n",
    "for train_index, test_index in skfolds.split(X_train, y_train_5):\n",
    "    clone_clf = clone(sgd_clf)\n",
    "    X_train_folds = X_train[train_index]\n",
    "    y_train_folds = y_train_5[train_index]\n",
    "    X_test_fold = X_train[test_index]\n",
    "    y_test_fold = y_train_5[test_index]\n",
    "\n",
    "    clone_clf.fit(X_train_folds, y_train_folds)\n",
    "    y_pred = clone_clf.predict(X_test_fold)\n",
    "    n_correct = sum(y_pred == y_test_fold)\n",
    "    print(n_correct / len(y_pred))\n"
   ]
  },
  {
   "cell_type": "markdown",
   "id": "ed882891-2a0b-4dd7-9993-171522b77ca0",
   "metadata": {},
   "source": [
    "### A menor acurácia dos folds foi de 91%, mas devido ao desequilíbrio de classes (apenas cerca de 10% das imagens representam o número 5), a alta acurácia pode ser enganosa. Ex: Um classificador que sempre prevê \"não é 5\" já teria uma acurácia de 90%.\n",
    "\n",
    "### Sendo necessário utilizar outras metricas para avaliar"
   ]
  },
  {
   "cell_type": "markdown",
   "id": "b2638757-d00b-4259-9dcf-72534fbc0ba5",
   "metadata": {},
   "source": [
    "#  6. Matriz de Confusão\n",
    "\n",
    "## A matriz de confusão é uma ferramenta que avalia o desempenho de um classificador, mostrando como as previsões se comparam aos rótulos reais. Ela é organizada em uma tabela que contém os seguintes valores:\n",
    "## True Negatives (TN): Quantidade de exemplos corretamente classificados como não sendo 5.\n",
    "## False Positives (FP): Quantidade de exemplos incorretamente classificados como sendo 5 (falsos alarmes).\n",
    "## False Negatives (FN): Quantidade de exemplos incorretamente classificados como não sendo 5 (erros de omissão).\n",
    "## True Positives (TP): Quantidade de exemplos corretamente classificados como sendo 5."
   ]
  },
  {
   "cell_type": "code",
   "execution_count": 13,
   "id": "d177cd3a-3f1b-45d4-9942-0fafe024193f",
   "metadata": {},
   "outputs": [],
   "source": [
    "from sklearn.model_selection import cross_val_predict\n",
    "y_train_pred = cross_val_predict(sgd_clf, X_train, y_train_5, cv=3)"
   ]
  },
  {
   "cell_type": "markdown",
   "id": "a00d1334-40f3-40b8-a4a9-ade59f918e34",
   "metadata": {},
   "source": [
    "## Em vez de utilizar o conjunto de teste para avaliar o modelo, o código realiza uma validação cruzada utilizando a função cross_val_predict. Isso retorna as predições feitas pelo modelo durante a validação cruzada, garantindo que o modelo nunca veja os mesmos dados usados para validação."
   ]
  },
  {
   "cell_type": "code",
   "execution_count": 14,
   "id": "5f05c02a-0e4f-46b0-a988-4c861e0e1a21",
   "metadata": {},
   "outputs": [
    {
     "data": {
      "image/png": "[encoded data removed]",
      "text/plain": [
       "<Figure size 500x300 with 1 Axes>"
      ]
     },
     "metadata": {},
     "output_type": "display_data"
    }
   ],
   "source": [
    "from sklearn.metrics import confusion_matrix\n",
    "confusion = confusion_matrix(y_train_5, y_train_pred)\n",
    "fig, ax = plt.subplots(figsize=(5, 3))\n",
    "ax.axis('tight')\n",
    "ax.axis('off')\n",
    "table = ax.table(cellText=confusion, \n",
    "                 rowLabels=[\"Não é 5\", \"É 5\"], \n",
    "                 colLabels=[\"Predito: Não é 5\", \"Predito: É 5\"], \n",
    "                 loc=\"center\",\n",
    "                 cellLoc=\"center\")\n",
    "table.auto_set_font_size(False)\n",
    "table.set_fontsize(12)\n",
    "table.auto_set_column_width(col=list(range(len(confusion[0]))))\n",
    "\n",
    "plt.show()"
   ]
  },
  {
   "cell_type": "markdown",
   "id": "03bb7c9e-b348-4f74-8eec-80c4388b6762",
   "metadata": {},
   "source": [
    "## Na tabela observamos que 2578 imagens foram classificadas incorretamente. Esse número representa a soma de 687 Falsos Positivos e 1891 Falsos Negativos, pode parecer pequeno em relação ao total, de 60000, mas a análise muda ao considerar o desbalanceamento das classes, em tono de 10% das imagens são 5, assim o modelo errou 1891 de 6000 imagens reais da classe \"5\". Isso equivale a um erro de quase 1/3  para essa classe."
   ]
  },
  {
   "cell_type": "markdown",
   "id": "24cf1571-85d0-4b5f-8dcf-e074a9ee1310",
   "metadata": {},
   "source": [
    "# 7. Precisão, Revocação e F1-Score"
   ]
  },
  {
   "cell_type": "markdown",
   "id": "76fa4981-d10d-49fe-a10a-d66779c9a79e",
   "metadata": {},
   "source": [
    "##  Precisão\n",
    "### A precisão mede a quantidade de predições corretas que o modelo fez sobre a classe positiva em relação ao total de predições feitas como positivas. Em outras palavras, ela avalia quantas das imagens que o modelo classificou como \"5\" realmente eram \"5\".\n",
    "### Precisão = Verdadeiros Positivos (TP)/( Verdadeiros Positivos (TP)+ Falsos Positivos (FP))\n"
   ]
  },
  {
   "cell_type": "code",
   "execution_count": 15,
   "id": "51d5fde9-71d8-4e77-bd0d-2d5f0de5b152",
   "metadata": {
    "scrolled": true
   },
   "outputs": [
    {
     "data": {
      "text/plain": [
       "0.8370879772350012"
      ]
     },
     "execution_count": 15,
     "metadata": {},
     "output_type": "execute_result"
    }
   ],
   "source": [
    "from sklearn.metrics import precision_score, recall_score\n",
    "precision_score(y_train_5, y_train_pred)"
   ]
  },
  {
   "cell_type": "markdown",
   "id": "fd7bb913-69b4-40ba-ba19-9ccf520a2071",
   "metadata": {},
   "source": [
    "### Quando comparamos com a acurácia vemos uma dimuição de quase 10%, com 84% de precisão o modelo classifica corretamente em torno de 4 em 5 previsões. "
   ]
  },
  {
   "cell_type": "markdown",
   "id": "212ec7f2-9572-4380-8e89-fa4db2461f3b",
   "metadata": {},
   "source": [
    "## Revocação \n",
    "### A revocação mede a capacidade do modelo de identificar todas as instâncias reais da classe positiva. Em outras palavras, ela avalia quantas das imagens que realmente são \"5\" o modelo foi capaz de identificar corretamente.\n",
    "###  Revocação = Verdadeiros Positivos (TP)/( Verdadeiros Positivos (TP)+ Falsos Negativos (FN))"
   ]
  },
  {
   "cell_type": "code",
   "execution_count": 16,
   "id": "c93b3532-a9e4-4add-b1c3-d7f2f00d2330",
   "metadata": {},
   "outputs": [
    {
     "data": {
      "text/plain": [
       "0.6511713705958311"
      ]
     },
     "execution_count": 16,
     "metadata": {},
     "output_type": "execute_result"
    }
   ],
   "source": [
    "recall_score(y_train_5, y_train_pred)"
   ]
  },
  {
   "cell_type": "markdown",
   "id": "aa156c99-a99e-416e-96f5-a39df41346b2",
   "metadata": {},
   "source": [
    "### Agora olhando a Revocação vemos uma piora ainda maior, com 65%, significa que 2 em 3 previsões feitas estão corretas."
   ]
  },
  {
   "cell_type": "markdown",
   "id": "50c1c84b-d520-4f57-92ae-b319ba522c63",
   "metadata": {},
   "source": [
    "## F1-Score\n",
    "### O F1-Score é a média harmônica da precisão e revocação, sendo uma métrica que busca equilibrar ambas as medidas.\n",
    "### F1-Score = 2 * ((Precisão*Revocação)/(Precisão+Revocação))"
   ]
  },
  {
   "cell_type": "code",
   "execution_count": 17,
   "id": "70bd2d39-2f31-4abe-9ed5-b35beb9e7e93",
   "metadata": {
    "scrolled": true
   },
   "outputs": [
    {
     "data": {
      "text/plain": [
       "0.7325171197343847"
      ]
     },
     "execution_count": 17,
     "metadata": {},
     "output_type": "execute_result"
    }
   ],
   "source": [
    "from sklearn.metrics import f1_score\n",
    "f1_score(y_train_5, y_train_pred)"
   ]
  },
  {
   "cell_type": "markdown",
   "id": "2cd03649-8fad-4fb8-8b4e-6969eb1bc3a7",
   "metadata": {},
   "source": [
    "### Com o F1-Score de 73%, o modelo tem um desempenho razoável."
   ]
  },
  {
   "cell_type": "markdown",
   "id": "6d75c599-1750-4085-9fed-13324f7d4b7e",
   "metadata": {},
   "source": [
    "# 8. Trade-off entre Precisão e Revocação"
   ]
  },
  {
   "cell_type": "markdown",
   "id": "b627f1ef-a3c7-4a45-8112-cdbe1030882e",
   "metadata": {},
   "source": [
    "### Precisão e Revocação, são metricas que entram em conflito, porque, ao tentar melhorar uma, você prejudica a outra.\n",
    "### Se o modelo for ajustado para ser mais rigoroso ao classificar algo como positivo, Isso tende a reduzir os falsos positivos (FP), mas deixa de identificar alguns verdadeiros \"5\"s, aumentando os falsos negativos (FN) reduzindo a revocação, o inverso também ocorre, se ajustado para ser menos rigoroso e classificar mais exemplos como positivos, teremos uma menor precisão.\n",
    "\n",
    "### O SGD, para fazer sua previsão, atribui scores a classe e se esse score for maior que um determinado limiar é clasificado como positivo, não podemos definir diretamente o limiar, mas com decision_function retorna o score e faz previsões com qualquer limiar."
   ]
  },
  {
   "cell_type": "code",
   "execution_count": 18,
   "id": "a2a9cc4e-fe62-4fa1-a91a-019262ab5aa5",
   "metadata": {},
   "outputs": [],
   "source": [
    "y_scores = cross_val_predict(sgd_clf, X_train, y_train_5, cv=3, method=\"decision_function\")"
   ]
  },
  {
   "cell_type": "code",
   "execution_count": 19,
   "id": "5fe48076-6153-48d7-a57f-31674168f0d5",
   "metadata": {},
   "outputs": [],
   "source": [
    "from sklearn.metrics import precision_recall_curve\n",
    "precisions, recalls, thresholds = precision_recall_curve(y_train_5, y_scores)"
   ]
  },
  {
   "cell_type": "code",
   "execution_count": 20,
   "id": "4da785cf-c738-40fc-a39b-1a1d09634a71",
   "metadata": {
    "scrolled": true
   },
   "outputs": [
    {
     "name": "stdout",
     "output_type": "stream",
     "text": [
      "Saving figure precision_recall_vs_threshold_plot\n"
     ]
    },
    {
     "data": {
      "image/png": "[encoded data removed]",
      "text/plain": [
       "<Figure size 800x400 with 1 Axes>"
      ]
     },
     "metadata": {},
     "output_type": "display_data"
    }
   ],
   "source": [
    "def plot_precision_recall_vs_threshold(precisions, recalls, thresholds):\n",
    "    plt.plot(thresholds, precisions[:-1], \"b--\", label=\"Precisão\", linewidth=2)\n",
    "    plt.plot(thresholds, recalls[:-1], \"g-\", label=\"Revocação\", linewidth=2)\n",
    "    plt.legend(loc=\"center right\", fontsize=16) \n",
    "    plt.xlabel(\"Limiar\", fontsize=16)        \n",
    "    plt.grid(True)                              \n",
    "    plt.axis([-50000, 50000, 0, 1])             \n",
    "\n",
    "\n",
    "\n",
    "recall_90_precision = recalls[np.argmax(precisions >= 0.90)]\n",
    "threshold_90_precision = thresholds[np.argmax(precisions >= 0.90)]\n",
    "\n",
    "\n",
    "plt.figure(figsize=(8, 4))                                                                 \n",
    "plot_precision_recall_vs_threshold(precisions, recalls, thresholds)\n",
    "plt.plot([threshold_90_precision, threshold_90_precision], [0., 0.9], \"r:\")                \n",
    "plt.plot([-50000, threshold_90_precision], [0.9, 0.9], \"r:\")                                \n",
    "plt.plot([-50000, threshold_90_precision], [recall_90_precision, recall_90_precision], \"r:\")\n",
    "plt.plot([threshold_90_precision], [0.9], \"ro\")                                             \n",
    "plt.plot([threshold_90_precision], [recall_90_precision], \"ro\")                             \n",
    "save_fig(\"precision_recall_vs_threshold_plot\")                                              \n",
    "plt.show()"
   ]
  },
  {
   "cell_type": "markdown",
   "id": "b7e6c4e9-9e26-41ff-b776-939a274957d1",
   "metadata": {},
   "source": [
    "### Na figura podemos ver como a precisão e revocação mudam em relação ao Limiar, os pontos vermelhos indicam os valores para uma precisão de 90%, mas temos uma Revocação menor que a anterior(65%), ou seja para ter 90% de certeza de que um dígito é 5, o modelo acaba perdendo mais da metade dos 5 verdadeiros.\n",
    "\n",
    "### Outra forma de vizualizar esse trade-off, é plotar a Precisão/Revocação."
   ]
  },
  {
   "cell_type": "code",
   "execution_count": 21,
   "id": "71acd558-0a80-446f-a884-5b1e1d32ad6f",
   "metadata": {},
   "outputs": [
    {
     "name": "stdout",
     "output_type": "stream",
     "text": [
      "Saving figure precision_vs_recall_plot\n"
     ]
    },
    {
     "data": {
      "image/png": "[encoded data removed]",
      "text/plain": [
       "<Figure size 800x600 with 1 Axes>"
      ]
     },
     "metadata": {},
     "output_type": "display_data"
    }
   ],
   "source": [
    "def plot_precision_vs_recall(precisions, recalls):\n",
    "    plt.plot(recalls, precisions, \"b-\", linewidth=2)\n",
    "    plt.xlabel(\"Revocação\", fontsize=16)\n",
    "    plt.ylabel(\"Precisão\", fontsize=16)\n",
    "    plt.axis([0, 1, 0, 1])\n",
    "    plt.grid(True)\n",
    "\n",
    "plt.figure(figsize=(8, 6))\n",
    "plot_precision_vs_recall(precisions, recalls)\n",
    "plt.plot([recall_90_precision, recall_90_precision], [0., 0.9], \"r:\")\n",
    "plt.plot([0.0, recall_90_precision], [0.9, 0.9], \"r:\")\n",
    "plt.plot([recall_90_precision], [0.9], \"ro\")\n",
    "save_fig(\"precision_vs_recall_plot\")\n",
    "plt.show()"
   ]
  },
  {
   "cell_type": "markdown",
   "id": "a4e2b23f-866d-4417-9832-c8c089bbbf5e",
   "metadata": {},
   "source": [
    "### Na figura podemos ver como a Revocação muda em relação a Precisão e escolher um ponto de equilibrio, vemos que para 90% de precisão temos em torno de 45% revocação, menos que anteriormente, o que sugere que 73% e 65% já eram um bom ponto de equilibrio."
   ]
  },
  {
   "cell_type": "markdown",
   "id": "bf8b43a3-c07a-4346-ae16-58f4162a5bf0",
   "metadata": {},
   "source": [
    "# 9. Curva ROC\n",
    "\n",
    "## A curva ROC (Receiver Operating Characteristic) mede a capacidade do modelo de distinguir entre classes positivas e negativas em diferentes limiares de decisão. Ela representa a relação entre a taxa de verdadeiros positivos (TPR), ou revocação, e a taxa de falsos positivos (FPR). O FPR é definido como a proporção de instâncias negativas classificadas incorretamente como positivas e pode ser calculado como FPR=1−TNR, onde TNR (Taxa de Verdadeiros Negativos) é a proporção de negativos classificados corretamente, também conhecida como especificidade. Dessa forma, a curva ROC mostra a revocação em relação à especificidade, permitindo avaliar o desempenho do modelo em diversos limiares.\n"
   ]
  },
  {
   "cell_type": "code",
   "execution_count": 22,
   "id": "0d2dc8e1-39a1-4162-8992-8d7ffcfda5c9",
   "metadata": {},
   "outputs": [],
   "source": [
    "from sklearn.metrics import roc_curve\n",
    "fpr, tpr, thresholds = roc_curve(y_train_5, y_scores)"
   ]
  },
  {
   "cell_type": "code",
   "execution_count": 24,
   "id": "7e2f640f-a8da-47dc-b8ac-f939bd1265e4",
   "metadata": {
    "scrolled": true
   },
   "outputs": [
    {
     "name": "stdout",
     "output_type": "stream",
     "text": [
      "Saving figure roc_curve_plot\n"
     ]
    },
    {
     "data": {
      "image/png": "[encoded data removed]",
      "text/plain": [
       "<Figure size 800x600 with 1 Axes>"
      ]
     },
     "metadata": {},
     "output_type": "display_data"
    }
   ],
   "source": [
    "def plot_roc_curve(fpr, tpr, label=None):\n",
    "    plt.plot(fpr, tpr, linewidth=2, label=label)\n",
    "    plt.plot([0, 1], [0, 1], 'k--') # dashed diagonal\n",
    "    plt.axis([0, 1, 0, 1])                                    \n",
    "    plt.xlabel('Especificidade', fontsize=16) \n",
    "    plt.ylabel('Revocação', fontsize=16)    \n",
    "    plt.grid(True)                                            \n",
    "\n",
    "plt.figure(figsize=(8, 6))                                    \n",
    "plot_roc_curve(fpr, tpr)\n",
    "fpr_90 = fpr[np.argmax(tpr >= recall_90_precision)]           \n",
    "plt.plot([fpr_90, fpr_90], [0., recall_90_precision], \"r:\")   \n",
    "plt.plot([0.0, fpr_90], [recall_90_precision, recall_90_precision], \"r:\")  \n",
    "plt.plot([fpr_90], [recall_90_precision], \"ro\")               \n",
    "save_fig(\"roc_curve_plot\")                                    \n",
    "plt.show()"
   ]
  },
  {
   "cell_type": "markdown",
   "id": "129b0f29-4405-460b-8966-6c8e8fde9441",
   "metadata": {},
   "source": [
    "## Na figura podemos ver a linha diagonal preta que representa o desempenho de um modelo aleatório, quanto mais distante a curva ROC estiver dessa linha, melhor é o desempenho do modelo, nesse caso, a curva ROC está bem próxima do canto superior esquerdo, indicando um bom desempenho geral, isso significa que ele consegue manter uma alta Revocação enquanto minimiza a taxa de falsos positivos, o ponto vermelho representa a revocação escolhida 43%. \n",
    "\n",
    "## Outra forma de avaliar é calcular a área sobre a curva, fornecendo um único número que resume o desempenho geral do modelo, idealmente queremos um valor igual a 1, que indica que o modelo consegue distinguir perfeitamente entre as classes positivas e negativas."
   ]
  },
  {
   "cell_type": "code",
   "execution_count": 25,
   "id": "8ea5d85b-b77c-471c-ba19-18d156b22d63",
   "metadata": {
    "scrolled": true
   },
   "outputs": [
    {
     "data": {
      "text/plain": [
       "0.9604938554008616"
      ]
     },
     "execution_count": 25,
     "metadata": {},
     "output_type": "execute_result"
    }
   ],
   "source": [
    "from sklearn.metrics import roc_auc_score\n",
    "roc_auc_score(y_train_5, y_scores)"
   ]
  },
  {
   "cell_type": "markdown",
   "id": "34bb0483-2c8d-4101-bfe7-77849cba5ddb",
   "metadata": {},
   "source": [
    "## Com um valor de 96%, o ROC AUC demonstra que o modelo possui uma boa capacidade de distinguir entre as classes positivas e negativas. No entanto, é importante lembrar que o conjunto de dados é desbalanceado, com apenas cerca de 10% das imagens representando o número \"5\". Nesse contexto, o modelo terá alta acurácia ao prever que \"não é 5\", mas isso não necessariamente reflete sua real capacidade de identificar a classe positiva. Por isso, a curva Precisão/Revocação oferece uma visão mais detalhada do desempenho do modelo, destacando que, ainda há espaço para melhorias, especialmente na identificação correta dos \"5\"."
   ]
  }
 ],
 "metadata": {
  "kernelspec": {
   "display_name": "Python 3 (ipykernel)",
   "language": "python",
   "name": "python3"
  },
  "language_info": {
   "codemirror_mode": {
    "name": "ipython",
    "version": 3
   },
   "file_extension": ".py",
   "mimetype": "text/x-python",
   "name": "python",
   "nbconvert_exporter": "python",
   "pygments_lexer": "ipython3",
   "version": "3.12.7"
  }
 },
 "nbformat": 4,
 "nbformat_minor": 5
}
